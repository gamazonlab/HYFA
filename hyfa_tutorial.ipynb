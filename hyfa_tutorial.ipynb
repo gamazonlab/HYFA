{
 "cells": [
  {
   "cell_type": "markdown",
   "id": "aa812808",
   "metadata": {},
   "source": [
    "# Hypergraph factorisation tutorial\n",
    "\n",
    "In this notebook we present some of the main features of the Pytorch implementation of the Hypergraph Factorisation method, including the flexible hypergraph dataset (the implementation supports k-uniform hypergraphs for any k) and HYFA model."
   ]
  },
  {
   "cell_type": "code",
   "execution_count": 1,
   "id": "16047fcd",
   "metadata": {},
   "outputs": [],
   "source": [
    "%load_ext autoreload\n",
    "%autoreload 2"
   ]
  },
  {
   "cell_type": "code",
   "execution_count": 2,
   "id": "747e692c",
   "metadata": {},
   "outputs": [
    {
     "name": "stderr",
     "output_type": "stream",
     "text": [
      "/home/rv340/anaconda3/envs/multitissue/lib/python3.8/site-packages/tqdm/auto.py:22: TqdmWarning: IProgress not found. Please update jupyter and ipywidgets. See https://ipywidgets.readthedocs.io/en/stable/user_install.html\n",
      "  from .autonotebook import tqdm as notebook_tqdm\n"
     ]
    }
   ],
   "source": [
    "from train_gtex import *\n",
    "from src.train_utils import forward\n",
    "import umap\n",
    "import matplotlib.pyplot as plt\n",
    "import seaborn as sns\n",
    "from tqdm import tqdm\n",
    "import wandb\n",
    "\n",
    "sns.set_style(\"whitegrid\")"
   ]
  },
  {
   "cell_type": "code",
   "execution_count": 3,
   "id": "5d6f99c0",
   "metadata": {},
   "outputs": [],
   "source": [
    "MODEL_PATH = 'data/normalised_model_default.pth'\n",
    "GTEX_FILE = 'data/GTEX_data.csv'\n",
    "METADATA_FILE = 'data/GTEx_Analysis_v8_Annotations_SubjectPhenotypesDS.txt'"
   ]
  },
  {
   "cell_type": "markdown",
   "id": "130d69f9",
   "metadata": {},
   "source": [
    "---\n",
    "## Load GTEx data\n",
    "\n",
    "Let's load the normalised GTEx data in [AnnData](https://anndata.readthedocs.io/en/latest/) format:"
   ]
  },
  {
   "cell_type": "code",
   "execution_count": 4,
   "id": "299e59d0",
   "metadata": {},
   "outputs": [
    {
     "name": "stderr",
     "output_type": "stream",
     "text": [
      "/auto/homes/rv340/HYFA/train_gtex.py:69: ImplicitModificationWarning: Trying to modify attribute `.obs` of view, initializing view as actual.\n",
      "  adata.obs['Tissue_idx'], tissue_dict = map_to_ids(adata.obs['Tissue'].values)\n"
     ]
    },
    {
     "data": {
      "text/plain": [
       "AnnData object with n_obs × n_vars = 15197 × 12557\n",
       "    obs: 'Participant ID', 'Tissue', 'Tissue_idx', 'Participant ID_dyn', 'Age', 'Sex'\n",
       "    var: 'Symbol'\n",
       "    uns: 'Tissue_dict', 'Sex_dict', 'Tissue_colors'\n",
       "    obsm: 'Participant ID_feat'\n",
       "    layers: 'x'"
      ]
     },
     "execution_count": 4,
     "metadata": {},
     "output_type": "execute_result"
    }
   ],
   "source": [
    "# Load data\n",
    "adata = GTEx_v8_normalised_adata(file=GTEX_FILE)\n",
    "adata"
   ]
  },
  {
   "cell_type": "markdown",
   "id": "975724ae",
   "metadata": {},
   "source": [
    "Here is a brief description of the `adata` fields:\n",
    "* **obs**\n",
    "    * `adata.obs['Participant ID']`: GTEx individual of every sample.\n",
    "    * `adata.obs['Tissue']`: GTEx tissue of every sample.\n",
    "    * `adata.obs['Tissue_idx']`: Encoded GTEx tissue. HYFA treats all fields in obs ending with `_idx` as static node types, i.e. node types with learnable node features.\n",
    "    * `adata.obs['Participant ID_dyn']`: Encoded GTEx donor. HYFA treats all fields in obs ending with `_dyn` as dynamic node types, i.e. node types that are updated via message passing.\n",
    "\n",
    "* **var**: Gene symbols\n",
    "\n",
    "* **uns**:\n",
    "    * `adata.uns['Tissue_dict']`: Dictionary mapping GTEx tissues names to identifiers.\n",
    "    * `adata.uns['Sex_dict']`: Dictionary mapping sex names to identifiers.\n",
    "\n",
    "* **obsm**\n",
    "    * `adata.obsm['Participant ID_feat']`: For every field `adata.obs['*_dyn']`, `adata.obsm['*_dyn']` contains the initial node features. For example, in this case the initial node features of the individual nodes are the age and sex of the individuals.\n",
    "\n",
    "* **layers**:\n",
    "    * `adata.layers['x']` contrains the processed gene expression data."
   ]
  },
  {
   "cell_type": "markdown",
   "id": "cc03f853",
   "metadata": {},
   "source": [
    "---\n",
    "## Hypergraph dataset\n",
    "\n",
    "We split the data by donors into train, validation, and test datasets using our predefined donor splits:"
   ]
  },
  {
   "cell_type": "code",
   "execution_count": 5,
   "id": "6fc87ec8",
   "metadata": {},
   "outputs": [],
   "source": [
    "# Split train/val/test\n",
    "donors = adata.obs['Participant ID'].values\n",
    "train_donors = np.loadtxt('data/splits/gtex_train.txt', delimiter=',', dtype=str)\n",
    "val_donors = np.loadtxt('data/splits/gtex_val.txt', delimiter=',', dtype=str)\n",
    "test_donors = np.loadtxt('data/splits/gtex_test.txt', delimiter=',', dtype=str)\n",
    "train_mask = np.isin(donors, train_donors)\n",
    "test_mask = np.isin(donors, test_donors)\n",
    "val_mask = np.isin(donors, val_donors)\n",
    "\n",
    "# Load datasets\n",
    "train_dataset = HypergraphDataset(adata[train_mask],\n",
    "                                  disjoint=True, static=False)\n",
    "val_dataset = HypergraphDataset(adata[val_mask],\n",
    "                                disjoint=True, static=True)\n",
    "test_dataset = HypergraphDataset(adata[test_mask],\n",
    "                                 static=True)"
   ]
  },
  {
   "cell_type": "markdown",
   "id": "5079cd3a",
   "metadata": {},
   "source": [
    "`HypergraphDataset` is a Pytorch dataset that takes care of obtaining samples by individual (i.e. argument `donor_key`). This flexible dataset has several arguments that control its behaviour:\n",
    "* `adata`: AnnData object with the gene expression data\n",
    "* `adata_target` (optional): Another AnnData object (same format as `adata`) with the target observations. The dataset matches individuals by `donor_key` (and discards unmatched individuals).\n",
    "* `obs_source` (optional): Dictionary: AnnData `obs` keys -> selected values for the given `obs` key. The dataset filters samples from `adata` according to this dictionary. For example, the following `obs_source`\n",
    "```\n",
    "obs_source={'Tissue': ['Whole_Blood', 'Adipose_Visceral_Omentum'],\n",
    "            'Participant ID': ['GTEX-1192X']}\n",
    "```\n",
    "will select the whole blood and adipose visveral omentum gene expression samples of individual `GTEX-1192X`.\n",
    "* `obs_target` (optional): same as `obs_source`, but appied to the target data `adata_target`.\n",
    "* `static`: Boolean value indicating whether to use static or dynamic samples. If `static=False` and `disjoint=True`, the dataset will use dynamic inputs and outputs (e.g. useful to train the model via self-supervised learning) --- the argument `sample_fn` determines the sampling behaviour. For example, `train_dataset[0].source` will yield different source tissues in different runs. If `static=True`, the dataset doesn't do any sampling.\n",
    "* `disjoint`: When the dataset is not static, this argument allows to draw mutually exclusive samples via the `sample_fn` argument. By default, this samples two random sets of \"collected\" and \"uncollected\" tissues for every individual and enforces that the two sets are mutually exclusive (i.e. no overlap between source and target samples).\n",
    "---\n",
    "\n",
    "Let's now examine the contents of a dataset sample:"
   ]
  },
  {
   "cell_type": "code",
   "execution_count": 6,
   "id": "19c65a48",
   "metadata": {},
   "outputs": [],
   "source": [
    "d = train_dataset[0]"
   ]
  },
  {
   "cell_type": "markdown",
   "id": "e66c40ef",
   "metadata": {},
   "source": [
    "The dataset returns `Data` instances with several fields, including `source`, `target`, `x_source`, `x_target`, `source_dynamic`, `target_dynamic`, `source_features`, and `target_features` among others."
   ]
  },
  {
   "cell_type": "code",
   "execution_count": 7,
   "id": "b9e92936",
   "metadata": {},
   "outputs": [
    {
     "data": {
      "text/plain": [
       "{'Tissue': tensor([ 4, 46]), 'Participant ID': tensor([0, 0])}"
      ]
     },
     "execution_count": 7,
     "metadata": {},
     "output_type": "execute_result"
    }
   ],
   "source": [
    "d.source"
   ]
  },
  {
   "cell_type": "markdown",
   "id": "2211594c",
   "metadata": {},
   "source": [
    "The `source` field contains the `obs` (mapped) information of the source donors (see section above with fields of AnnData object), e.g. IDs of both dynamic and static node types. You can map the static nodes (e.g. tissues) back to the original names through the dictionary that was used to map the static node names to identifiers. For example, for the GTEx tissues, we stored this dictionary in `adata.uns['Tissue_dict']`. Similarly, `d.target` contains the information for the target samples:"
   ]
  },
  {
   "cell_type": "code",
   "execution_count": 8,
   "id": "efa948d6",
   "metadata": {},
   "outputs": [
    {
     "data": {
      "text/plain": [
       "{'Tissue': tensor([ 0,  1,  5, 11, 19, 27, 32, 33, 39, 47]),\n",
       " 'Participant ID': tensor([0, 0, 0, 0, 0, 0, 0, 0, 0, 0])}"
      ]
     },
     "execution_count": 8,
     "metadata": {},
     "output_type": "execute_result"
    }
   ],
   "source": [
    "d.target"
   ]
  },
  {
   "cell_type": "markdown",
   "id": "b032a59b",
   "metadata": {},
   "source": [
    "The unmapped information of the dynamic nodes (e.g. `Participant ID`) is available through `d.source_dynamic` (source samples) and `d.target_dynamic` (target samples):"
   ]
  },
  {
   "cell_type": "code",
   "execution_count": 9,
   "id": "13f5bda7",
   "metadata": {},
   "outputs": [
    {
     "data": {
      "text/plain": [
       "{'Participant ID': 1670     GTEX-1117F\n",
       " 14261    GTEX-1117F\n",
       " Name: Participant ID_dyn, dtype: object}"
      ]
     },
     "execution_count": 9,
     "metadata": {},
     "output_type": "execute_result"
    }
   ],
   "source": [
    "d.source_dynamic"
   ]
  },
  {
   "cell_type": "code",
   "execution_count": 10,
   "id": "b3569843",
   "metadata": {},
   "outputs": [
    {
     "data": {
      "text/plain": [
       "{'Participant ID': 0        GTEX-1117F\n",
       " 581      GTEX-1117F\n",
       " 1883     GTEX-1117F\n",
       " 3321     GTEX-1117F\n",
       " 4648     GTEX-1117F\n",
       " 7652     GTEX-1117F\n",
       " 9206     GTEX-1117F\n",
       " 9350     GTEX-1117F\n",
       " 11518    GTEX-1117F\n",
       " 14390    GTEX-1117F\n",
       " Name: Participant ID_dyn, dtype: object}"
      ]
     },
     "execution_count": 10,
     "metadata": {},
     "output_type": "execute_result"
    }
   ],
   "source": [
    "d.target_dynamic"
   ]
  },
  {
   "cell_type": "markdown",
   "id": "fb97ccfa",
   "metadata": {},
   "source": [
    "The initial node features of the source and target nodes are available via `d.source_features` and `d.target_features`, respectively:"
   ]
  },
  {
   "cell_type": "code",
   "execution_count": 11,
   "id": "78d3c564",
   "metadata": {},
   "outputs": [
    {
     "data": {
      "text/plain": [
       "{'Participant ID': tensor([[0.6000, 1.0000],\n",
       "         [0.6000, 1.0000],\n",
       "         [0.6000, 1.0000],\n",
       "         [0.6000, 1.0000],\n",
       "         [0.6000, 1.0000],\n",
       "         [0.6000, 1.0000],\n",
       "         [0.6000, 1.0000],\n",
       "         [0.6000, 1.0000],\n",
       "         [0.6000, 1.0000],\n",
       "         [0.6000, 1.0000]], dtype=torch.float64)}"
      ]
     },
     "execution_count": 11,
     "metadata": {},
     "output_type": "execute_result"
    }
   ],
   "source": [
    "d.target_features"
   ]
  },
  {
   "cell_type": "markdown",
   "id": "bc497419",
   "metadata": {},
   "source": [
    "Note that we used the arguments `disjoint=True` and `static=False` for the train dataset, so the dataset is dynamically drawing samples that are mutually exclusive, i.e. non-overlapping sets of tissues. The corresponding gene expression information of the source and target samples is stored in `d.x_source` and `d.x_target`, correspondingly:"
   ]
  },
  {
   "cell_type": "code",
   "execution_count": 12,
   "id": "1aba3560",
   "metadata": {},
   "outputs": [
    {
     "data": {
      "text/plain": [
       "tensor([[ 0.5406,  0.1529,  0.0469,  ..., -0.6967, -0.5406,  0.5271],\n",
       "        [ 1.1228, -0.4806, -0.1940,  ..., -0.0193, -0.2137, -0.9272]])"
      ]
     },
     "execution_count": 12,
     "metadata": {},
     "output_type": "execute_result"
    }
   ],
   "source": [
    "d.x_source"
   ]
  },
  {
   "cell_type": "code",
   "execution_count": 13,
   "id": "c73a05f0",
   "metadata": {},
   "outputs": [
    {
     "data": {
      "text/plain": [
       "tensor([[ 0.7381, -0.1775, -2.5653,  ...,  2.5653,  2.5653, -2.2045],\n",
       "        [ 1.3853, -0.9533,  2.3030,  ...,  0.0640,  0.3369, -0.6711],\n",
       "        [ 0.7879, -1.0493,  0.7533,  ..., -0.8055,  2.7047, -1.2206],\n",
       "        ...,\n",
       "        [ 0.2857,  0.2673,  0.8954,  ...,  0.4766,  0.8186, -1.3120],\n",
       "        [ 1.8409, -0.5266,  0.7719,  ...,  2.0289, -1.2161,  0.1213],\n",
       "        [-0.7779,  1.5863, -0.6856,  ..., -1.9084,  0.5366,  1.8092]])"
      ]
     },
     "execution_count": 13,
     "metadata": {},
     "output_type": "execute_result"
    }
   ],
   "source": [
    "d.x_target"
   ]
  },
  {
   "cell_type": "markdown",
   "id": "2eff6922",
   "metadata": {},
   "source": [
    "We can map the information of a `Data` object to a Pytorch device via the `d.to(device)` method."
   ]
  },
  {
   "cell_type": "code",
   "execution_count": 14,
   "id": "e2cedc4b",
   "metadata": {},
   "outputs": [
    {
     "data": {
      "text/plain": [
       "{'Tissue': tensor([ 4, 46], device='cuda:0'),\n",
       " 'Participant ID': tensor([0, 0], device='cuda:0')}"
      ]
     },
     "execution_count": 14,
     "metadata": {},
     "output_type": "execute_result"
    }
   ],
   "source": [
    "d = d.to('cuda:0')\n",
    "d.source"
   ]
  },
  {
   "cell_type": "code",
   "execution_count": 15,
   "id": "e6b32340",
   "metadata": {},
   "outputs": [
    {
     "data": {
      "text/plain": [
       "tensor([[ 0.5406,  0.1529,  0.0469,  ..., -0.6967, -0.5406,  0.5271],\n",
       "        [ 1.1228, -0.4806, -0.1940,  ..., -0.0193, -0.2137, -0.9272]],\n",
       "       device='cuda:0')"
      ]
     },
     "execution_count": 15,
     "metadata": {},
     "output_type": "execute_result"
    }
   ],
   "source": [
    "d.x_source"
   ]
  },
  {
   "cell_type": "code",
   "execution_count": 16,
   "id": "857e954a",
   "metadata": {},
   "outputs": [
    {
     "data": {
      "text/plain": [
       "tensor([[ 0.7381, -0.1775, -2.5653,  ...,  2.5653,  2.5653, -2.2045],\n",
       "        [ 1.3853, -0.9533,  2.3030,  ...,  0.0640,  0.3369, -0.6711],\n",
       "        [ 0.7879, -1.0493,  0.7533,  ..., -0.8055,  2.7047, -1.2206],\n",
       "        ...,\n",
       "        [ 0.2857,  0.2673,  0.8954,  ...,  0.4766,  0.8186, -1.3120],\n",
       "        [ 1.8409, -0.5266,  0.7719,  ...,  2.0289, -1.2161,  0.1213],\n",
       "        [-0.7779,  1.5863, -0.6856,  ..., -1.9084,  0.5366,  1.8092]],\n",
       "       device='cuda:0')"
      ]
     },
     "execution_count": 16,
     "metadata": {},
     "output_type": "execute_result"
    }
   ],
   "source": [
    "d.x_target"
   ]
  },
  {
   "cell_type": "markdown",
   "id": "76658a47",
   "metadata": {},
   "source": [
    "Now that we've covered the basics of `HypergraphDataset`, let's see how to instantiate HYFA."
   ]
  },
  {
   "cell_type": "markdown",
   "id": "384a35c0",
   "metadata": {},
   "source": [
    "---\n",
    "## HYFA model\n",
    "\n",
    "We start by initialising weights and biases and loading the YAML config file with HYFA's hyperparameters for the normalised GTEx data."
   ]
  },
  {
   "cell_type": "code",
   "execution_count": 17,
   "id": "421caa67",
   "metadata": {},
   "outputs": [
    {
     "name": "stdout",
     "output_type": "stream",
     "text": [
      "{'gpu': 0, 'sweep': False, 'lr': 0.00045568167228053424, 'batch_size': 63, 'epochs': 200, 'patience': 30, 'dropout': 0.17385777664292695, 'bn': True, 'use_demographic_information': True, 'update_edge_attr': False, 'n_graph_layers': 2, 'n_hidden_layers': 1, 'n_hidden_layers_pred': 2, 'n_hidden_layers_prior_var': 0, 'meta_G': 50, 'd_patient': 71, 'd_gene': 48, 'd_edge_attr': 98, 'd_tissue': 120, 'd_edge': 28, 'n_heads': 28, 'beta': 0, 'n_top_genes': None, 'attention_strategy': 'patient', 'metagenes_encoder': 'plain', 'loss_type': 'normal', 'layer': 'gat', 'activation': 'swish', 'norm': 'batch'}\n"
     ]
    }
   ],
   "source": [
    "# Initialise wandb\n",
    "wandb.init(project='multitissue_imputation', config='configs/default.yaml', mode='disabled')\n",
    "config = wandb.config\n",
    "print(config)"
   ]
  },
  {
   "cell_type": "markdown",
   "id": "7d5d5158",
   "metadata": {},
   "source": [
    "Most hyperparameters are self-explanatory. Here is a brief description of the most important:\n",
    "* `n_graph_layers`: Number of message passing layers.\n",
    "* `meta_G`: Number of metagenes. Each metagene captures one mode of interaction (e.g. similar to channels in a convolutional neural network).\n",
    "* `d_patient`: Dimensionality of the donor node features.\n",
    "* `d_gene`: Dimensionality of the metagene node features.\n",
    "* `d_tissue`: Dimensionality of the tissue node features.\n",
    "* `d_edge_attr`: Dimensionality of the hyperedge attributes.\n",
    "* `d_edge`: Dimensionality of the message vectors.\n",
    "* `n_heads`: Number of heads in the message aggregation mechanism.\n",
    "* `loss_type`: Likelihood function name."
   ]
  },
  {
   "cell_type": "markdown",
   "id": "c0270d7b",
   "metadata": {},
   "source": [
    "We now create Pytorch data loaders for the train, validation, and test sets."
   ]
  },
  {
   "cell_type": "code",
   "execution_count": 18,
   "id": "bbec3a44",
   "metadata": {},
   "outputs": [],
   "source": [
    "# Load data loaders\n",
    "train_loader = DataLoader(train_dataset,\n",
    "                          batch_size=config.batch_size,\n",
    "                          collate_fn=Data.from_datalist,\n",
    "                          shuffle=True)\n",
    "val_loader = DataLoader(val_dataset,\n",
    "                        batch_size=config.batch_size,\n",
    "                        collate_fn=Data.from_datalist,\n",
    "                        shuffle=False)\n",
    "test_loader = DataLoader(test_dataset,\n",
    "                         batch_size=config.batch_size,\n",
    "                         collate_fn=Data.from_datalist,\n",
    "                         shuffle=False)"
   ]
  },
  {
   "cell_type": "markdown",
   "id": "6f271df2",
   "metadata": {},
   "source": [
    "The argument `collate_fn` specifies how to create batches from multiple data objects. The function `Data.from_datalist` takes care of merging several `Data` objects output by the dataset into a single one (i.e. it reindexes the IDs of dynamic nodes).\n",
    "\n",
    "Let's now instantiate the model:"
   ]
  },
  {
   "cell_type": "code",
   "execution_count": 19,
   "id": "57c7b13c",
   "metadata": {},
   "outputs": [],
   "source": [
    "# Use certain GPU\n",
    "device = torch.device(\"cuda:{}\".format(config.gpu) if torch.cuda.is_available() else \"cpu\")\n",
    "\n",
    "# Select dynamic/static node types\n",
    "config.update({'static_node_types': {\n",
    "    'Tissue': (len(adata.obs['Tissue_idx'].unique()), config.d_tissue),\n",
    "    'metagenes': (config.meta_G, config.d_gene)\n",
    "}}, allow_val_change=True)\n",
    "config.update({'dynamic_node_types': {\n",
    "    'Participant ID': (len(adata.obs['Participant ID'].unique()), config.d_patient)\n",
    "}}, allow_val_change=True)\n",
    "\n",
    "# Model\n",
    "config.G = adata.shape[-1]\n",
    "model = HypergraphNeuralNet(config).to(device)"
   ]
  },
  {
   "cell_type": "markdown",
   "id": "946c6c63",
   "metadata": {},
   "source": [
    "The attributes `'static_node_types'` and `'dynamic_node_types'` of the `config` object specify the properties of the static and dynamic node types of the hypergraph. The model relies on these two fields to determine the number of node types, their dimensions, and whether they should be updated during message passing (static vs dynamic node types). For every node type (i.e. key in dictionary), we specified the number of nodes as well as their dimensions (`n_nodes`, `node_dim`). The `metagenes` field is special (the model will *not* look for this key in `d.source`) and expected by the model - it determines the number and dimension of the metagenes.\n",
    "\n",
    "We have now instantiated HYFA. To train the model, we provide a `train` function that trains the model and takes in the config object, the HYFA model, the train and validation loaders, as well as other optional keyword arguments. See the `train_gtex.py` script for an example."
   ]
  },
  {
   "cell_type": "markdown",
   "id": "bc9c2e80",
   "metadata": {},
   "source": [
    "---\n",
    "## Inferring uncollected gene expression\n",
    "\n",
    "We now load the parameters of a trained HYFA model and generate predictions for uncollected tissues. This step assumes that the architecture and hyperparameters are the same used for training. "
   ]
  },
  {
   "cell_type": "code",
   "execution_count": 20,
   "id": "535218c0",
   "metadata": {},
   "outputs": [],
   "source": [
    "# Load model parameters\n",
    "model.load_state_dict(torch.load(MODEL_PATH))\n",
    "model.eval();"
   ]
  },
  {
   "cell_type": "markdown",
   "id": "be07ff2c",
   "metadata": {},
   "source": [
    "Let's infer the expression of uncollected tissues for individuals in the validation set, using data from accessible tissues. First, we'll select validation individuals with gene expression collected in all GTEx accessible tissues (whole blood, skin sun exposed, skin not sun exposed, and adipose subcutaneous), as well as a target tissue, say esophagus mucosa, which we assume to be uncollected."
   ]
  },
  {
   "cell_type": "code",
   "execution_count": 21,
   "id": "f1dd9da6",
   "metadata": {},
   "outputs": [
    {
     "data": {
      "text/plain": [
       "42"
      ]
     },
     "execution_count": 21,
     "metadata": {},
     "output_type": "execute_result"
    }
   ],
   "source": [
    "split_mask = val_mask\n",
    "source_tissues = ['Whole_Blood', 'Skin_Sun_Epsd', 'Skin_Not_Sun_Epsd', 'Adipose_Subcutaneous']\n",
    "target_tissues = ['Esophagus_Mucosa']\n",
    "\n",
    "valid_donors = []\n",
    "donors = adata[split_mask].obs['Participant ID'].unique()\n",
    "for donor in donors:\n",
    "    donor_mask = adata[split_mask].obs['Participant ID'] == donor\n",
    "    all_tissues_collected = all([t in adata[split_mask].obs[donor_mask]['Tissue'].values for t in source_tissues + target_tissues])\n",
    "    if all_tissues_collected:\n",
    "        valid_donors.append(donor)\n",
    "len(valid_donors)"
   ]
  },
  {
   "cell_type": "markdown",
   "id": "29dbf584",
   "metadata": {},
   "source": [
    "We now instantiate an auxiliary dataset and data loader for the selected donors in `valid_donors`. We can use `obs_source` and `obs_target` to select the donors and tissues from above. For now, we will use a single reference tissue (whole blood)."
   ]
  },
  {
   "cell_type": "code",
   "execution_count": 22,
   "id": "df3c8bbc",
   "metadata": {},
   "outputs": [
    {
     "name": "stdout",
     "output_type": "stream",
     "text": [
      "Selected 42 source and 42 target samples of 42 unique donors\n"
     ]
    }
   ],
   "source": [
    "source_tissues_1 = ['Whole_Blood']\n",
    "aux_val_dataset = HypergraphDataset(adata[split_mask],\n",
    "                                    obs_source={'Tissue': source_tissues_1, 'Participant ID': valid_donors},\n",
    "                                    obs_target={'Tissue': target_tissues, 'Participant ID': valid_donors},\n",
    "                                    static=True, \n",
    "                                    verbose=True)\n",
    "aux_val_loader = DataLoader(aux_val_dataset,\n",
    "                            batch_size=len(aux_val_dataset),\n",
    "                            collate_fn=Data.from_datalist,\n",
    "                            shuffle=False)"
   ]
  },
  {
   "cell_type": "markdown",
   "id": "8b8865ae",
   "metadata": {},
   "source": [
    "We feed the data to HYFA to get the inferred esophagus mucosa gene expession for the selected validation individuals. To do so, we use the `forward` method which executes HYFA's workflow (infer low-dimensional metagene features for source tissues, perform message passing in the 3-uniform hypergraph, and hyperedge-level prediction to recover the uncollected gene expression). We set the argument `preprocess_fn` to `None` to indicate that the source data doesn't need to be processed. In the case of unnormalised gene expression, we can use an appropriate function (e.g. `torch.log1p`)."
   ]
  },
  {
   "cell_type": "code",
   "execution_count": 23,
   "id": "27a0cbea",
   "metadata": {},
   "outputs": [],
   "source": [
    "d = next(iter(aux_val_loader))\n",
    "with torch.no_grad():\n",
    "    out, node_features = forward(d, model, device, preprocess_fn=None)\n",
    "    x_pred = out['px_rate'].cpu().numpy()"
   ]
  },
  {
   "cell_type": "markdown",
   "id": "7c17487e",
   "metadata": {},
   "source": [
    "By default, if the model was trained using a normal likelihood, the attribute `'px_rate'` contains the prediction means. We'll use this as the inferred gene expression. We can now assess prediction performance by comparing the predictions with the ground truth, stored in `d.x_target`:"
   ]
  },
  {
   "cell_type": "code",
   "execution_count": 24,
   "id": "b334a1c1",
   "metadata": {},
   "outputs": [
    {
     "data": {
      "text/plain": [
       "(0.39947408, 0.16053617)"
      ]
     },
     "execution_count": 24,
     "metadata": {},
     "output_type": "execute_result"
    },
    {
     "data": {
      "image/png": "[encoded data removed]",
      "text/plain": [
       "<Figure size 360x360 with 1 Axes>"
      ]
     },
     "metadata": {},
     "output_type": "display_data"
    }
   ],
   "source": [
    "scores = pearson_correlation_score(d.x_target.cpu().numpy(), x_pred, sample_corr=True)\n",
    "sns.displot(scores)\n",
    "plt.xlabel('Pearson correlation')\n",
    "np.mean(scores), np.std(scores)"
   ]
  },
  {
   "cell_type": "markdown",
   "id": "e7df8752",
   "metadata": {},
   "source": [
    "Not bad! These are per-sample scores. Let's see if we can improve the predictions by taking multiple tissues as reference for the same validation individuals."
   ]
  },
  {
   "cell_type": "code",
   "execution_count": 25,
   "id": "37158fd6",
   "metadata": {},
   "outputs": [
    {
     "name": "stdout",
     "output_type": "stream",
     "text": [
      "Selected 168 source and 42 target samples of 42 unique donors\n"
     ]
    }
   ],
   "source": [
    "source_tissues_2 = ['Whole_Blood', 'Skin_Sun_Epsd', 'Skin_Not_Sun_Epsd', 'Adipose_Subcutaneous']\n",
    "aux_val_dataset_2 = HypergraphDataset(adata[split_mask],\n",
    "                                    obs_source={'Tissue': source_tissues_2, 'Participant ID': valid_donors},\n",
    "                                    obs_target={'Tissue': target_tissues, 'Participant ID': valid_donors},\n",
    "                                    static=True, \n",
    "                                    verbose=True)\n",
    "aux_val_loader_2 = DataLoader(aux_val_dataset_2,\n",
    "                            batch_size=len(aux_val_dataset_2),\n",
    "                            collate_fn=Data.from_datalist,\n",
    "                            shuffle=False)"
   ]
  },
  {
   "cell_type": "markdown",
   "id": "8707018d",
   "metadata": {},
   "source": [
    "Let's feed the data (accessible tissues) through the model:"
   ]
  },
  {
   "cell_type": "code",
   "execution_count": 26,
   "id": "adeba98c",
   "metadata": {},
   "outputs": [],
   "source": [
    "d = next(iter(aux_val_loader_2))\n",
    "with torch.no_grad():\n",
    "    out, node_features = forward(d, model, device, preprocess_fn=None)\n",
    "    x_pred = out['px_rate'].cpu().numpy()"
   ]
  },
  {
   "cell_type": "markdown",
   "id": "76044b63",
   "metadata": {},
   "source": [
    "The average prediction performance are now higher (though the predictions seem worse for a couple of individuals):"
   ]
  },
  {
   "cell_type": "code",
   "execution_count": 27,
   "id": "1cd3236e",
   "metadata": {},
   "outputs": [
    {
     "data": {
      "text/plain": [
       "(0.4354319, 0.18939544)"
      ]
     },
     "execution_count": 27,
     "metadata": {},
     "output_type": "execute_result"
    },
    {
     "data": {
      "image/png": "[encoded data removed]",
      "text/plain": [
       "<Figure size 360x360 with 1 Axes>"
      ]
     },
     "metadata": {},
     "output_type": "display_data"
    }
   ],
   "source": [
    "scores = pearson_correlation_score(d.x_target.cpu().numpy(), x_pred, sample_corr=True)\n",
    "sns.displot(scores)\n",
    "plt.xlabel('Pearson correlation')\n",
    "np.mean(scores), np.std(scores)"
   ]
  },
  {
   "cell_type": "markdown",
   "id": "c99c5c75",
   "metadata": {},
   "source": [
    "Well done! As an exercise, you may try to impute the gene expression of the target tissue using all collected tissues of the individual. Think about how you could set up the auxiliary dataset to select the appropriate samples (note that different individuals may have different collected tissues)."
   ]
  },
  {
   "cell_type": "markdown",
   "id": "85ae9712",
   "metadata": {},
   "source": [
    "---\n",
    "## Plotting the HYFA's learnt tissue embeddings\n",
    "\n",
    "In this section, we explore HYFA's learnt tissue embeddings (i.e. learnable node features in the hypergraph). We gather the learnt tissue features as follows:"
   ]
  },
  {
   "cell_type": "code",
   "execution_count": 28,
   "id": "6d375dc4",
   "metadata": {},
   "outputs": [],
   "source": [
    "params = model.params['Tissue'].cpu().detach().numpy()"
   ]
  },
  {
   "cell_type": "markdown",
   "id": "a68f4739",
   "metadata": {},
   "source": [
    "We will now apply UMAP to project these parameters into a 2-dimensional space:"
   ]
  },
  {
   "cell_type": "code",
   "execution_count": 29,
   "id": "43340522",
   "metadata": {},
   "outputs": [],
   "source": [
    "tissue_params_2d = umap.UMAP().fit_transform(params)"
   ]
  },
  {
   "cell_type": "markdown",
   "id": "538221ee",
   "metadata": {},
   "source": [
    "We finally plot the low-dimensional tissue embeddings:"
   ]
  },
  {
   "cell_type": "code",
   "execution_count": 30,
   "id": "d81ba042",
   "metadata": {},
   "outputs": [
    {
     "data": {
      "image/png": "[encoded data removed]",
      "text/plain": [
       "<Figure size 576x576 with 1 Axes>"
      ]
     },
     "metadata": {},
     "output_type": "display_data"
    }
   ],
   "source": [
    "plt.figure(figsize=(8, 8))\n",
    "ax = plt.gca()\n",
    "x1, x2 = tissue_params_2d.T\n",
    "ax.scatter(x1, x2,\n",
    "           c=adata.uns['Tissue_colors'],\n",
    "           s=300)\n",
    "\n",
    "for t, i in adata.uns['Tissue_dict'].items():\n",
    "    x_coord = x1[i]\n",
    "    y_coord = x2[i]\n",
    "    txt = t.replace('_', ' ').replace('Brain', '')\n",
    "        \n",
    "    ax.annotate(txt, (x_coord, y_coord),\n",
    "                textcoords=\"offset points\",  # how to position the text\n",
    "                xytext=(0, 10),  # distance from text to points (x,y)\n",
    "                fontsize=12,\n",
    "                ha='center')\n",
    "\n",
    "plt.axis('off');"
   ]
  },
  {
   "cell_type": "markdown",
   "id": "345539bb",
   "metadata": {},
   "source": [
    "We observe strong cluster of biologically related tissues (e.g. see brain tissues in yellow). Cool!"
   ]
  }
 ],
 "metadata": {
  "kernelspec": {
   "display_name": "multitissue",
   "language": "python",
   "name": "multitissue"
  },
  "language_info": {
   "codemirror_mode": {
    "name": "ipython",
    "version": 3
   },
   "file_extension": ".py",
   "mimetype": "text/x-python",
   "name": "python",
   "nbconvert_exporter": "python",
   "pygments_lexer": "ipython3",
   "version": "3.8.0"
  }
 },
 "nbformat": 4,
 "nbformat_minor": 5
}
